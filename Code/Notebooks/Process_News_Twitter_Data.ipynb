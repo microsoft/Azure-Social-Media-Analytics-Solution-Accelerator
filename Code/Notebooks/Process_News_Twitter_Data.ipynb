{
  "cells": [
    {
      "cell_type": "markdown",
      "source": [
        "Copyright (c) Microsoft Corporation.\r\n",
        "\r\n",
        "Licensed under the MIT License."
      ],
      "metadata": {
        "nteract": {
          "transient": {
            "deleting": false
          }
        }
      }
    },
    {
      "cell_type": "code",
      "source": [
        "from notebookutils import mssparkutils\n",
        "\n",
        "data_lake_account_name = '' # Synapse Workspace ADLS\n",
        "file_system_name = '' # Synapse Workspace ADLS container\n",
        "\n",
        "keyvault_name = '' # Key Vault Name\n",
        "\n",
        "query = '' #change this to your query string\n",
        "topic = '' #change this to your topic"
      ],
      "outputs": [],
      "execution_count": null,
      "metadata": {
        "tags": [
          "parameters"
        ]
      }
    },
    {
      "cell_type": "code",
      "source": [
        "base_path = f\"abfss://{file_system_name}@{data_lake_account_name}.dfs.core.windows.net/\"\n",
        "\n",
        "df = spark.read.load(base_path + 'CountryCoordinates/CountryCordinates.csv', format='csv', header=True)\n",
        "df.write.mode(\"overwrite\").saveAsTable(\"country_coordinates\")\n",
        "# display(df.take(10))"
      ],
      "outputs": [],
      "execution_count": null,
      "metadata": {
        "jupyter": {
          "outputs_hidden": false,
          "source_hidden": false
        },
        "nteract": {
          "transient": {
            "deleting": false
          }
        },
        "collapsed": false
      }
    },
    {
      "cell_type": "code",
      "source": [
        "mssparkutils.notebook.run(\"/Ingest_Process_News\", 1800, \\\n",
        "{\"data_lake_account_name\": data_lake_account_name, \"file_system_name\": file_system_name, \"keyvault_name\": keyvault_name, \"query\": query, \"topic\": topic})"
      ],
      "outputs": [],
      "execution_count": null,
      "metadata": {
        "jupyter": {
          "outputs_hidden": false,
          "source_hidden": false
        },
        "nteract": {
          "transient": {
            "deleting": false
          }
        }
      }
    },
    {
      "cell_type": "code",
      "source": [
        "mssparkutils.notebook.run(\"/Ingest_Process_Tweets\", 1800, \\\n",
        " {\"data_lake_account_name\": data_lake_account_name, \"file_system_name\": file_system_name,\"keyvault_name\": keyvault_name, \"query\": query, \"topic\": topic})"
      ],
      "outputs": [],
      "execution_count": null,
      "metadata": {
        "jupyter": {
          "outputs_hidden": false,
          "source_hidden": false
        },
        "nteract": {
          "transient": {
            "deleting": false
          }
        }
      }
    },
    {
      "cell_type": "code",
      "source": [
        "#Code snippets to clean up duplicates if Power BI refresh shows any errors\n",
        "\n",
        "df_articles = spark.sql('select * from articles_data')\n",
        "df_articles = df_articles.dropDuplicates(['id'])\n",
        "df_articles.write.mode(\"overwrite\").saveAsTable(\"articles_data_temp\")\n",
        "\n",
        "df_articles = spark.sql('select * from articles_data_temp')\n",
        "df_articles.write.mode(\"overwrite\").saveAsTable(\"articles_data\")\n",
        "\n",
        "df = spark.sql('select * from tweets_users_data')\n",
        "df = df.dropDuplicates(['id'])\n",
        "df.write.mode(\"overwrite\").saveAsTable(\"tweets_users_data_temp\")\n",
        "\n",
        "df = spark.sql('select * from tweets_users_data_temp')\n",
        "df.write.mode(\"overwrite\").saveAsTable(\"tweets_users_data\")\n",
        "\n",
        "df = spark.sql('select * from tweets_sentiments')\n",
        "df = df.dropDuplicates(['id'])\n",
        "df.write.mode(\"overwrite\").saveAsTable(\"tweets_sentiments_temp\")\n",
        "\n",
        "df = spark.sql('select * from tweets_sentiments_temp')\n",
        "df.write.mode(\"overwrite\").saveAsTable(\"tweets_sentiments\")\n",
        "\n",
        "df_tweets = spark.sql('select * from tweets_data')\n",
        "df_tweets = df_tweets.dropDuplicates(['originalid'])\n",
        "df_tweets.write.mode(\"overwrite\").saveAsTable(\"tweets_data_temp\")"
      ],
      "outputs": [],
      "execution_count": null,
      "metadata": {
        "jupyter": {
          "outputs_hidden": false,
          "source_hidden": false
        },
        "nteract": {
          "transient": {
            "deleting": false
          }
        }
      }
    },
    {
      "cell_type": "code",
      "source": [
        "df_tweets = spark.sql('select * from tweets_data_temp')\n",
        "df_tweets.write.mode(\"overwrite\").saveAsTable(\"tweets_data\")"
      ],
      "outputs": [],
      "execution_count": null,
      "metadata": {}
    },
    {
      "cell_type": "code",
      "source": [
        "df_tweets = spark.sql('select * from tweets_data')\n",
        "df_tweets = df_tweets.dropDuplicates(['id'])\n",
        "df_tweets.write.mode(\"overwrite\").saveAsTable(\"tweets_data_temp\")\n",
        "\n",
        "df_tweets = spark.sql('select * from tweets_data_temp')\n",
        "df_tweets.write.mode(\"overwrite\").saveAsTable(\"tweets_data\")"
      ],
      "outputs": [],
      "execution_count": null,
      "metadata": {}
    }
  ],
  "metadata": {
    "kernelspec": {
      "name": "synapse_pyspark",
      "display_name": "Synapse PySpark"
    },
    "language_info": {
      "name": "python"
    },
    "description": null,
    "save_output": true,
    "synapse_widget": {
      "version": "0.1",
      "state": {}
    }
  },
  "nbformat": 4,
  "nbformat_minor": 2
}